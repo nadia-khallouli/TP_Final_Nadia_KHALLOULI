{
 "cells": [
  {
   "cell_type": "code",
   "execution_count": null,
   "id": "18f8ba9d",
   "metadata": {},
   "outputs": [],
   "source": [
    "import requests\n",
    "from bs4 import BeautifulSoup\n",
    "\n",
    "# Récupérer le contenu de la page web\n",
    "# Initialiser avec l'URL de la page que nous voulons extraire\n",
    "url = \"https://www.carrefour.fr/r/bio-et-ecologie/bio-petit-prix\"\n",
    "# Utiliser la méthode GET pour envoyer une requête à l'URL spécifiée\n",
    "response = requests.get(url)\n",
    "# Récupérer le contenu HTML de la page web que nous voulons extraire\n",
    "content = response.content\n",
    "\n",
    "# La bibliothèque BeautifulSoup permet de parser et de naviguer dans un document HTML (ou XML) et d'extraire les informations souhaitées\n",
    "# Analyser le contenu de la page web avec Beautiful Soup\n",
    "soup = BeautifulSoup(content, 'html.parser')\n",
    "\n",
    "# Le script cherche les éléments HTML qui contiennent les données que nous souhaitons extraire\n",
    "# Trouver les éléments HTML qui contiennent les données que vous souhaitez extraire\n",
    "data = []\n",
    "for product in soup.find_all('div', {'class': 'product-tile'}):\n",
    "    name = product.find('div', {'class': 'product-tile__name'}).text.strip()\n",
    "    price = product.find('div', {'class': 'product-tile__price'}).text.strip()\n",
    "    data.append([name, price])"
   ]
  },
  {
   "cell_type": "code",
   "execution_count": null,
   "id": "4bddff77",
   "metadata": {},
   "outputs": [],
   "source": [
    "import sqlite3\n",
    "\n",
    "# Connexion à la base de données SQLite\n",
    "conn = sqlite3.connect('ma_base_de_donnees.db')\n",
    "\n",
    "# Création d'une table pour stocker les données\n",
    "conn.execute('''\n",
    "CREATE TABLE IF NOT EXISTS produits (\n",
    "    id INTEGER PRIMARY KEY AUTOINCREMENT,\n",
    "    nom TEXT,\n",
    "    prix TEXT\n",
    ");\n",
    "''')\n",
    "\n",
    "# Insertion des données dans la table\n",
    "data = [ ['Produit 1', '10.99'], ['Produit 2', '12.99'], ['Produit 3', '8.99'] ]\n",
    "for item in data:\n",
    "    conn.execute('INSERT INTO produits (nom, prix) VALUES (?, ?)', item)\n",
    "\n",
    "# Commit des changements\n",
    "conn.commit()\n",
    "\n",
    "# Fermeture de la connexion\n",
    "conn.close()"
   ]
  },
  {
   "cell_type": "code",
   "execution_count": null,
   "id": "e5697444",
   "metadata": {},
   "outputs": [
    {
     "name": "stderr",
     "output_type": "stream",
     "text": [
      "2023-03-25 22:41:54.676 INFO    matplotlib.category: Using categorical units to plot a list of strings that are all parsable as floats or dates. If these strings should be plotted as numbers, cast to the appropriate data type before plotting.\n",
      "2023-03-25 22:41:54.679 INFO    matplotlib.category: Using categorical units to plot a list of strings that are all parsable as floats or dates. If these strings should be plotted as numbers, cast to the appropriate data type before plotting.\n",
      "2023-03-25 22:41:55.218 \n",
      "  \u001b[33m\u001b[1mWarning:\u001b[0m to view this Streamlit app on a browser, run it with the following\n",
      "  command:\n",
      "\n",
      "    streamlit run C:\\ProgramData\\Anaconda3\\lib\\site-packages\\ipykernel_launcher.py [ARGUMENTS]\n"
     ]
    },
    {
     "data": {
      "image/png": "[encoded data removed]",
      "text/plain": [
       "<Figure size 640x480 with 1 Axes>"
      ]
     },
     "metadata": {},
     "output_type": "display_data"
    }
   ],
   "source": [
    "import sqlite3\n",
    "import streamlit as st\n",
    "import pandas as pd\n",
    "import matplotlib.pyplot as plt\n",
    "\n",
    "# Connexion à la base de données SQLite\n",
    "conn = sqlite3.connect('ma_base_de_donnees.db')\n",
    "\n",
    "# Récupération des données de la base de données dans un dataframe pandas\n",
    "df = pd.read_sql_query('SELECT * FROM produits', conn)\n",
    "\n",
    "# Affichage des données sous forme de graphique avec matplotlib\n",
    "fig, ax = plt.subplots()\n",
    "ax.bar(df['nom'], df['prix'])\n",
    "st.pyplot(fig)\n",
    "\n",
    "# Affichage des données sous forme de tableau avec Streamlit\n",
    "st.write(df)\n",
    "\n",
    "# Fermeture de la connexion\n",
    "conn.close()\n"
   ]
  },
  {
   "cell_type": "code",
   "execution_count": null,
   "id": "98d4ec4f",
   "metadata": {},
   "outputs": [],
   "source": []
  }
 ],
 "metadata": {
  "kernelspec": {
   "display_name": "Python 3 (ipykernel)",
   "language": "python",
   "name": "python3"
  },
  "language_info": {
   "codemirror_mode": {
    "name": "ipython",
    "version": 3
   },
   "file_extension": ".py",
   "mimetype": "text/x-python",
   "name": "python",
   "nbconvert_exporter": "python",
   "pygments_lexer": "ipython3",
   "version": "3.11.0"
  }
 },
 "nbformat": 4,
 "nbformat_minor": 5
}
